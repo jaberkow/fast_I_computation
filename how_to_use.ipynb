{
 "cells": [
  {
   "cell_type": "code",
   "execution_count": 2,
   "metadata": {
    "collapsed": true
   },
   "outputs": [],
   "source": [
    "import numpy as np\n",
    "import multithread_I as mI"
   ]
  },
  {
   "cell_type": "markdown",
   "metadata": {},
   "source": [
    "# Description of model and variables\n",
    "\n",
    "We consider a model for a neural population $\\vec{r} \\in \\lbrace -1,1 \\rbrace^N$ with boltzmann distribution, conditioned on a D-dimensional stimulus $\\vec{s}$:\n",
    "\n",
    "$$ P(\\vec{r}|\\vec{s}) \\propto e^{H(\\vec{r},\\vec{s})}$$\n",
    "\n",
    "Where the hamiltonian $H(\\vec{r})$ has the following parametric form:\n",
    "\n",
    "$$H(\\vec{r}) = \\sum_{i,j} J_{i,j}r_i r_j + \\sum_i \\beta_i (\\vec{w}_i \\cdot \\vec{s} - \\alpha_i) $$\n",
    "\n",
    "This script computes $I(\\vec{r},\\vec{s})$."
   ]
  },
  {
   "cell_type": "code",
   "execution_count": 3,
   "metadata": {
    "collapsed": false
   },
   "outputs": [
    {
     "data": {
      "text/plain": [
       "1.4843509383295297"
      ]
     },
     "execution_count": 3,
     "metadata": {},
     "output_type": "execute_result"
    }
   ],
   "source": [
    "#Example computation cell\n",
    "\n",
    "N = 10 #a population of ten neurons\n",
    "D = 2 #two dimensional stimuli\n",
    "Num_samples = 10000 #ten thousand samples from the stimulus distribution\n",
    "batch_size = 100 #batch sizes of 100 samples each\n",
    "alpha_vec = np.zeros(N)\n",
    "beta_vec = np.ones(N)\n",
    "J_mat = np.zeros((N,N)) #No intrinsic couplings\n",
    "w_array = np.random.randn(N,D)\n",
    "stimuli = np.random.randn(D,Num_samples)\n",
    "\n",
    "mI.I_wrapper(alpha_vec,beta_vec,J_mat,w_array,stimuli,batch_size)"
   ]
  },
  {
   "cell_type": "code",
   "execution_count": null,
   "metadata": {
    "collapsed": true
   },
   "outputs": [],
   "source": []
  }
 ],
 "metadata": {
  "kernelspec": {
   "display_name": "Python 2",
   "language": "python",
   "name": "python2"
  },
  "language_info": {
   "codemirror_mode": {
    "name": "ipython",
    "version": 2
   },
   "file_extension": ".py",
   "mimetype": "text/x-python",
   "name": "python",
   "nbconvert_exporter": "python",
   "pygments_lexer": "ipython2",
   "version": "2.7.12"
  }
 },
 "nbformat": 4,
 "nbformat_minor": 2
}
